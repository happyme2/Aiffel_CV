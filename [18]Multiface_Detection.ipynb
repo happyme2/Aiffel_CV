{
 "cells": [
  {
   "cell_type": "markdown",
   "id": "ef2bfe91",
   "metadata": {},
   "source": [
    "# 18. 멀리 있는 사람도 스티커를 붙여주자"
   ]
  },
  {
   "cell_type": "code",
   "execution_count": null,
   "id": "a3ad1bd8",
   "metadata": {},
   "outputs": [],
   "source": []
  }
 ],
 "metadata": {
  "kernelspec": {
   "display_name": "aiffel2",
   "language": "python",
   "name": "aiffel2"
  },
  "language_info": {
   "codemirror_mode": {
    "name": "ipython",
    "version": 3
   },
   "file_extension": ".py",
   "mimetype": "text/x-python",
   "name": "python",
   "nbconvert_exporter": "python",
   "pygments_lexer": "ipython3",
   "version": "3.7.10"
  }
 },
 "nbformat": 4,
 "nbformat_minor": 5
}
